{
 "cells": [
  {
   "cell_type": "code",
   "execution_count": 1,
   "metadata": {},
   "outputs": [],
   "source": [
    "import pandas as pd\n",
    "import datetime as dt\n",
    "import time\n",
    "import sys\n",
    "from pybit.unified_trading import HTTP\n"
   ]
  },
  {
   "cell_type": "code",
   "execution_count": 22,
   "metadata": {},
   "outputs": [
    {
     "name": "stdout",
     "output_type": "stream",
     "text": [
      "2025-03-17 01:00:00+01:00\n"
     ]
    }
   ],
   "source": [
    "############################################\n",
    "# Add these parameters before running code #\n",
    "############################################\n",
    "\n",
    "CATEGORY = \"linear\"  # linear are perpetual swaps/futures\n",
    "SYMBOL = \"SOLUSDT\"\n",
    "INTERVAL = \"D\"  # 1,3,5,15,30,60,120,240,360,720,D,W,M\n",
    "START = int(dt.datetime(2021, 10, 1, 0, 0).timestamp()) * 1000\n",
    "END = int(dt.datetime(2025, 3, 18, 0, 0).timestamp()) * 1000\n",
    "SLEEP_TIME = 3  # seconds to sleep between requests\n",
    "CSV_FILE = f\"/opt/bybit/data/{SYMBOL}_{INTERVAL}_20211001.csv\"\n",
    "\n",
    "CHUNK_SIZE_MAPPING = {\"1\":60,\"3\":180,\"5\":300,\"15\":900,\"30\":1800,\"60\":3600,\"120\":7200,\"240\":14400,\"360\":7200*3,\"720\":7200*6,\"D\":3600*24}\n",
    "CHUNK_SIZE = 1000 * CHUNK_SIZE_MAPPING.get(INTERVAL)  # time of chunk\n",
    "\n",
    "############################################################################################\n",
    "\n",
    "# For additional info about API, go to https://bybit-exchange.github.io/docs/v5/market/kline\n",
    "# Initialize session\n",
    "session = HTTP(testnet=False)\n",
    "\n",
    "\n",
    "# Helper function to fetch and process data\n",
    "def fetch_data(start, end):\n",
    "    response = session.get_kline(\n",
    "        category=CATEGORY,\n",
    "        symbol=SYMBOL,\n",
    "        interval=INTERVAL,\n",
    "        start=start,\n",
    "        end=end,\n",
    "    )\n",
    "\n",
    "    if response[\"retMsg\"] == \"OK\" and response[\"result\"][\"list\"]:\n",
    "        data = response[\"result\"][\"list\"]\n",
    "        columns = [\"time\", \"open\", \"high\", \"low\", \"close\", \"volume\", \"turnover\"]\n",
    "        df = pd.DataFrame(data, columns=columns)\n",
    "\n",
    "        df[\"time\"] = pd.to_numeric(df[\"time\"], errors=\"coerce\")\n",
    "        df.insert(0, \"human\", pd.to_datetime(df[\"time\"], unit=\"ms\", utc=True))\n",
    "        df[\"human\"] = df[\"human\"].dt.tz_convert(\"Europe/Zagreb\")\n",
    "\n",
    "        return df.iloc[::-1].reset_index(drop=True)\n",
    "\n",
    "    else:\n",
    "        print(\n",
    "            \"---------------------------------------------------\\n\"\n",
    "            f\"start={pd.to_datetime(start, unit='ms', utc=True).tz_convert('Europe/Zagreb')}\\n\"\n",
    "            f\"end={pd.to_datetime(end, unit='ms', utc=True).tz_convert('Europe/Zagreb')}\\n\"\n",
    "            f\"response={response}\"\n",
    "        )\n",
    "        sys.exit(0)\n",
    "\n",
    "\n",
    "\n",
    "try:\n",
    "    df_existing = pd.read_csv(CSV_FILE, index_col=False).tail(1)\n",
    "except FileNotFoundError:\n",
    "    df_existing = pd.DataFrame(\n",
    "        columns=[\"human\", \"time\", \"open\", \"high\", \"low\", \"close\", \"volume\", \"turnover\"]\n",
    "    )\n",
    "    df_existing.to_csv(CSV_FILE, index=False)\n",
    "\n",
    "if df_existing.empty:\n",
    "    current_start = START\n",
    "else:\n",
    "    current_start = int(df_existing[\"time\"].max()) + CHUNK_SIZE\n",
    "\n",
    "while current_start < END:\n",
    "    current_end = min((current_start + (CHUNK_SIZE * 200)), END)  # 200 is fetch limit\n",
    "\n",
    "    df_new = fetch_data(current_start, current_end)\n",
    "    df_new.to_csv(CSV_FILE, mode=\"a\", index=False, header=False)\n",
    "\n",
    "    current_start = int(df_new[\"time\"].max()) + CHUNK_SIZE\n",
    "\n",
    "    print(\n",
    "        pd.to_datetime(df_new[\"time\"].min(), unit=\"ms\", utc=True).tz_convert(\n",
    "            \"Europe/Zagreb\"\n",
    "        )\n",
    "    )\n",
    "\n",
    "    time.sleep(SLEEP_TIME)"
   ]
  }
 ],
 "metadata": {
  "kernelspec": {
   "display_name": "Python 3",
   "language": "python",
   "name": "python3"
  },
  "language_info": {
   "codemirror_mode": {
    "name": "ipython",
    "version": 3
   },
   "file_extension": ".py",
   "mimetype": "text/x-python",
   "name": "python",
   "nbconvert_exporter": "python",
   "pygments_lexer": "ipython3",
   "version": "3.10.12"
  },
  "orig_nbformat": 4
 },
 "nbformat": 4,
 "nbformat_minor": 2
}
